{
 "cells": [
  {
   "cell_type": "code",
   "execution_count": 8,
   "metadata": {
    "collapsed": true
   },
   "outputs": [],
   "source": [
    "import math\n",
    "import random"
   ]
  },
  {
   "cell_type": "code",
   "execution_count": 2,
   "metadata": {},
   "outputs": [
    {
     "data": {
      "text/plain": [
       "-6"
      ]
     },
     "execution_count": 2,
     "metadata": {},
     "output_type": "execute_result"
    }
   ],
   "source": [
    "def forward_multiply_gate(x,y):\n",
    "    return x * y \n",
    "\n",
    "forward_multiply_gate(-2,3)  # returns -6"
   ]
  },
  {
   "cell_type": "code",
   "execution_count": 10,
   "metadata": {},
   "outputs": [],
   "source": [
    "# circuit with a single gate\n",
    "\n",
    "def forward_multiply_gate(x,y): \n",
    "    return x *y\n",
    "\n",
    "x, y = -2,3 # input values\n",
    "\n",
    "# try changing x,y randomly small amounts and keep track of what works best\n",
    "tweak_amount = 0.01\n",
    "best_out = -math.inf\n",
    "best_x, best_y = x, y\n",
    "\n",
    "for i in range(100):\n",
    "    x_try = x + tweak_amount * (random.random() * 2 - 1) # tweak x a little bit\n",
    "    y_try = y + tweak_amount * (random.random() * 2 - 1) # tweak y a little bit\n",
    "    out = forward_multiply_gate(x_try,y_try)\n",
    "    if out > best_out:\n",
    "        best_out = out\n",
    "        best_x, best_y = x_try, y_try"
   ]
  },
  {
   "cell_type": "code",
   "execution_count": 14,
   "metadata": {},
   "outputs": [
    {
     "name": "stdout",
     "output_type": "stream",
     "text": [
      "best x: -1.9906748071853988\n",
      "best y: 2.990304691028108\n",
      "best out: -5.952724214237973\n"
     ]
    }
   ],
   "source": [
    "print(\"best x: {}\".format(best_x))\n",
    "print(\"best y: {}\".format(best_y))\n",
    "print(\"best out: {}\".format(best_out))"
   ]
  },
  {
   "cell_type": "code",
   "execution_count": 19,
   "metadata": {
    "collapsed": true
   },
   "outputs": [],
   "source": [
    "x, y = -2, 3\n",
    "out = forward_multiply_gate(x,y)\n",
    "h = 0.0001\n",
    "\n",
    "# compute derivative with respect to x\n",
    "xph = x + h\n",
    "out2 = forward_multiply_gate(xph, y) # -5.997\n",
    "x_derivative = (out2 - out) / h # 3.0\n",
    "\n",
    "# compute derivative with respect to y\n",
    "yph = y + h\n",
    "out3 = forward_multiply_gate(x, yph) # -6.0002\n",
    "y_derivative = (out3 - out)/h # 2.0"
   ]
  },
  {
   "cell_type": "code",
   "execution_count": 20,
   "metadata": {},
   "outputs": [
    {
     "data": {
      "text/plain": [
       "-2.0000000000042206"
      ]
     },
     "execution_count": 20,
     "metadata": {},
     "output_type": "execute_result"
    }
   ],
   "source": [
    "y_derivative"
   ]
  },
  {
   "cell_type": "code",
   "execution_count": null,
   "metadata": {
    "collapsed": true
   },
   "outputs": [],
   "source": []
  },
  {
   "cell_type": "code",
   "execution_count": null,
   "metadata": {
    "collapsed": true
   },
   "outputs": [],
   "source": []
  },
  {
   "cell_type": "code",
   "execution_count": 91,
   "metadata": {
    "collapsed": true
   },
   "outputs": [],
   "source": [
    "class Unit:\n",
    "    def __init__(self, value, grad):\n",
    "        self.value = value\n",
    "        self.grad = grad\n",
    "        \n"
   ]
  },
  {
   "cell_type": "code",
   "execution_count": 92,
   "metadata": {
    "collapsed": true
   },
   "outputs": [],
   "source": [
    "class MultiplyGate:\n",
    "    def forward(self,u0,u1):\n",
    "        self.u0 = u0\n",
    "        self.u1 = u1\n",
    "        self.utop = Unit(u0.value*u1.value, 0.0)\n",
    "        return self.utop\n",
    "    \n",
    "    def backward(self):\n",
    "        self.u0.grad += self.u1.value * self.utop.grad\n",
    "        self.u1.grad += self.u0.value * self.utop.grad"
   ]
  },
  {
   "cell_type": "code",
   "execution_count": 93,
   "metadata": {
    "collapsed": true
   },
   "outputs": [],
   "source": [
    "class AddGate:\n",
    "    def forward(self,u0,u1):\n",
    "        self.u0 = u0\n",
    "        self.u1 = u1\n",
    "        self.utop = Unit(u0.value + u1.value, 0.0)\n",
    "        return self.utop\n",
    "    \n",
    "    def backward(self):\n",
    "        self.u0.grad += 1 * self.utop.grad\n",
    "        self.u1.grad += 1 * self.utop.grad"
   ]
  },
  {
   "cell_type": "code",
   "execution_count": 122,
   "metadata": {
    "collapsed": true
   },
   "outputs": [],
   "source": [
    "# helper function\n",
    "def sigmoid_fun(x):\n",
    "    return 1/(1+math.exp(-x))\n",
    "\n",
    "class SigmoidGate:\n",
    "\n",
    "    \n",
    "    def forward(self,u0):\n",
    "        self.u0 = u0\n",
    "        self.utop = Unit(sigmoid_fun(self.u0.value), 0.0)\n",
    "        return self.utop\n",
    "    \n",
    "    def backward(self):\n",
    "        s = sigmoid_fun(self.u0.value)\n",
    "        self.u0.grad += (s * (1 - s)) * self.utop.grad\n",
    "    "
   ]
  },
  {
   "cell_type": "code",
   "execution_count": 123,
   "metadata": {
    "collapsed": true
   },
   "outputs": [],
   "source": [
    "a = Unit(1.0,0.0)\n",
    "b = Unit(2.0,0.0)\n",
    "c = Unit(-3.0, 0.0)\n",
    "x = Unit(-1.0,0.0)\n",
    "y = Unit(3.0,0.0)"
   ]
  },
  {
   "cell_type": "code",
   "execution_count": 124,
   "metadata": {},
   "outputs": [],
   "source": [
    "mulg0 = MultiplyGate()\n",
    "mulg1 = MultiplyGate()\n",
    "addg0 = AddGate()\n",
    "addg1 = AddGate()\n",
    "sg0 = SigmoidGate()"
   ]
  },
  {
   "cell_type": "code",
   "execution_count": 125,
   "metadata": {
    "collapsed": true
   },
   "outputs": [],
   "source": [
    "\n",
    "\n",
    "ax = mulg0.forward(a,x)\n",
    "by = mulg1.forward(b,y)\n",
    "axpby = addg0.forward(ax,by)\n",
    "axpbypc = addg1.forward(axpby,c)\n",
    "s = sg0.forward(axpbypc)\n"
   ]
  },
  {
   "cell_type": "code",
   "execution_count": 126,
   "metadata": {},
   "outputs": [
    {
     "data": {
      "text/plain": [
       "0.8807970779778823"
      ]
     },
     "execution_count": 126,
     "metadata": {},
     "output_type": "execute_result"
    }
   ],
   "source": [
    "s.value"
   ]
  },
  {
   "cell_type": "code",
   "execution_count": 127,
   "metadata": {},
   "outputs": [],
   "source": [
    "s.grad = 1.0"
   ]
  },
  {
   "cell_type": "code",
   "execution_count": 128,
   "metadata": {},
   "outputs": [],
   "source": [
    "sg0.backward()\n",
    "addg1.backward()\n",
    "addg0.backward()\n",
    "mulg1.backward()\n",
    "mulg0.backward()"
   ]
  },
  {
   "cell_type": "code",
   "execution_count": 129,
   "metadata": {},
   "outputs": [
    {
     "data": {
      "text/plain": [
       "-0.10499358540350662"
      ]
     },
     "execution_count": 129,
     "metadata": {},
     "output_type": "execute_result"
    }
   ],
   "source": [
    "a.grad"
   ]
  },
  {
   "cell_type": "code",
   "execution_count": 130,
   "metadata": {
    "collapsed": true
   },
   "outputs": [],
   "source": [
    "step_size = 0.01\n",
    "\n",
    "a.value += step_size * a.grad\n",
    "b.value += step_size * b.grad\n",
    "c.value += step_size * c.grad\n",
    "x.value += step_size * x.grad\n",
    "y.value += step_size * y.grad"
   ]
  },
  {
   "cell_type": "code",
   "execution_count": 131,
   "metadata": {},
   "outputs": [],
   "source": [
    "ax = mulg0.forward(a,x)\n",
    "by = mulg1.forward(b,y)\n",
    "axpby = addg0.forward(ax,by)\n",
    "axpbypc = addg1.forward(axpby,c)\n",
    "s = sg0.forward(axpbypc)"
   ]
  },
  {
   "cell_type": "code",
   "execution_count": 132,
   "metadata": {},
   "outputs": [
    {
     "data": {
      "text/plain": [
       "0.8825501816218984"
      ]
     },
     "execution_count": 132,
     "metadata": {},
     "output_type": "execute_result"
    }
   ],
   "source": [
    "s.value"
   ]
  },
  {
   "cell_type": "code",
   "execution_count": 133,
   "metadata": {
    "collapsed": true
   },
   "outputs": [],
   "source": [
    "def forward_fast_circuit(a,b,c,x,y):\n",
    "    return 1/(1 + math.exp(- (a*x + b*y + c)))"
   ]
  },
  {
   "cell_type": "code",
   "execution_count": 134,
   "metadata": {
    "collapsed": true
   },
   "outputs": [],
   "source": [
    "a,b,c,x,y = 1,2,-3,-1,3\n",
    "h = 0.0001"
   ]
  },
  {
   "cell_type": "code",
   "execution_count": 135,
   "metadata": {
    "collapsed": true
   },
   "outputs": [],
   "source": [
    "a_grad = (forward_fast_circuit(a+h,b,c,x,y) - forward_fast_circuit(a,b,c,x,y))/h\n",
    "b_grad = (forward_fast_circuit(a,b+h,c,x,y) - forward_fast_circuit(a,b,c,x,y))/h\n",
    "c_grad = (forward_fast_circuit(a,b,c+h,x,y) - forward_fast_circuit(a,b,c,x,y))/h\n",
    "x_grad = (forward_fast_circuit(a,b,c,x+h,y) - forward_fast_circuit(a,b,c,x,y))/h\n",
    "y_grad = (forward_fast_circuit(a,b,c,x,y+h) - forward_fast_circuit(a,b,c,x,y))/h"
   ]
  },
  {
   "cell_type": "code",
   "execution_count": 137,
   "metadata": {},
   "outputs": [
    {
     "name": "stdout",
     "output_type": "stream",
     "text": [
      "-0.10499758359205913 0.3149447748351797 0.10498958734506125 0.10498958734506125 0.2099711788272618\n"
     ]
    }
   ],
   "source": [
    "print(a_grad,b_grad,c_grad,x_grad,y_grad)"
   ]
  },
  {
   "cell_type": "code",
   "execution_count": null,
   "metadata": {
    "collapsed": true
   },
   "outputs": [],
   "source": []
  }
 ],
 "metadata": {
  "kernelspec": {
   "display_name": "Python 3",
   "language": "python",
   "name": "python3"
  },
  "language_info": {
   "codemirror_mode": {
    "name": "ipython",
    "version": 3
   },
   "file_extension": ".py",
   "mimetype": "text/x-python",
   "name": "python",
   "nbconvert_exporter": "python",
   "pygments_lexer": "ipython3",
   "version": "3.6.2"
  }
 },
 "nbformat": 4,
 "nbformat_minor": 2
}
