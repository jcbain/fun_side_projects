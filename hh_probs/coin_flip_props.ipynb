{
 "cells": [
  {
   "cell_type": "code",
   "execution_count": 1,
   "metadata": {},
   "outputs": [],
   "source": [
    "import numpy as np"
   ]
  },
  {
   "cell_type": "code",
   "execution_count": 2,
   "metadata": {},
   "outputs": [],
   "source": [
    "def flip_coin():\n",
    "    \"\"\"Simulate flipping a coin.\n",
    "    \n",
    "    Returns\n",
    "    -------\n",
    "    str\n",
    "        \"H\" for heads/ \"T\" for tails.\n",
    "    \"\"\"\n",
    "    flip = np.random.binomial(1, .5, 1)\n",
    "    if flip[0] == 1:\n",
    "        side = \"H\"\n",
    "    else:\n",
    "        side = \"T\"\n",
    "    return side\n",
    "        \n"
   ]
  },
  {
   "cell_type": "code",
   "execution_count": 3,
   "metadata": {},
   "outputs": [],
   "source": [
    "def flip_condition(stop_condition=['H', 'T'], print_opt=False):\n",
    "    \"\"\"Flip coin until flip pattern is met.\n",
    "    \n",
    "    Parameters\n",
    "    ----------\n",
    "    stop_condition: list\n",
    "        The sequence of flips to be matched before flipping stops.\n",
    "    \n",
    "    print_opt: bool\n",
    "        Option to print the sequence of flips.\n",
    "        \n",
    "    Returns\n",
    "    -------\n",
    "    int\n",
    "        The number of flips it took to match the pattern.\n",
    "    \"\"\"\n",
    "    flip_list = []\n",
    "    \n",
    "    current_index = 0\n",
    "    current_condition = None\n",
    "    while current_condition != stop_condition:\n",
    "        flip_list.append(flip_coin())\n",
    "        if len(flip_list) >= len(stop_condition):\n",
    "            current_condition = [flip_list[i] for i in range(current_index - len(stop_condition) +1 , current_index + 1)]\n",
    "        else:\n",
    "            pass\n",
    "        current_index +=1\n",
    "        \n",
    "    if print_opt:\n",
    "        print(flip_list)\n",
    "    return current_index "
   ]
  },
  {
   "cell_type": "code",
   "execution_count": 4,
   "metadata": {},
   "outputs": [
    {
     "name": "stdout",
     "output_type": "stream",
     "text": [
      "Average # of flips to achieve heads and then heads again: 5.9801\n",
      "Average # of flips to achieve heads and then tails: 3.9626\n"
     ]
    }
   ],
   "source": [
    "mean_ht = np.mean([flip_condition(['H', 'T']) for i in range(10000)])\n",
    "mean_hh = np.mean([flip_condition(['H','H']) for i in range(10000)])\n",
    "\n",
    "print(\"Average # of flips to achieve heads and then heads again: {}\".format(mean_hh))\n",
    "print(\"Average # of flips to achieve heads and then tails: {}\".format(mean_ht))"
   ]
  },
  {
   "cell_type": "code",
   "execution_count": 5,
   "metadata": {},
   "outputs": [
    {
     "data": {
      "text/plain": [
       "9.9514"
      ]
     },
     "execution_count": 5,
     "metadata": {},
     "output_type": "execute_result"
    }
   ],
   "source": [
    "np.mean([flip_condition(['H', 'T', 'H']) for i in range(10000)])"
   ]
  },
  {
   "cell_type": "code",
   "execution_count": 6,
   "metadata": {},
   "outputs": [
    {
     "data": {
      "text/plain": [
       "14.0759"
      ]
     },
     "execution_count": 6,
     "metadata": {},
     "output_type": "execute_result"
    }
   ],
   "source": [
    "np.mean([flip_condition(['H', 'H', 'H']) for i in range(10000)])"
   ]
  },
  {
   "cell_type": "code",
   "execution_count": null,
   "metadata": {},
   "outputs": [],
   "source": []
  }
 ],
 "metadata": {
  "kernelspec": {
   "display_name": "Python 3",
   "language": "python",
   "name": "python3"
  },
  "language_info": {
   "codemirror_mode": {
    "name": "ipython",
    "version": 3
   },
   "file_extension": ".py",
   "mimetype": "text/x-python",
   "name": "python",
   "nbconvert_exporter": "python",
   "pygments_lexer": "ipython3",
   "version": "3.6.1"
  }
 },
 "nbformat": 4,
 "nbformat_minor": 2
}
