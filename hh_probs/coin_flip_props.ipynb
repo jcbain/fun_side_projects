{
 "cells": [
  {
   "cell_type": "code",
   "execution_count": 1,
   "metadata": {},
   "outputs": [],
   "source": [
    "import numpy as np"
   ]
  },
  {
   "cell_type": "code",
   "execution_count": 17,
   "metadata": {},
   "outputs": [],
   "source": [
    "def flip_coin():\n",
    "    flip = np.random.binomial(1, .5, 1)\n",
    "    if flip[0] == 1:\n",
    "        side = \"H\"\n",
    "    else:\n",
    "        side = \"T\"\n",
    "    return side\n",
    "        \n"
   ]
  },
  {
   "cell_type": "code",
   "execution_count": 235,
   "metadata": {},
   "outputs": [],
   "source": [
    "def flip_condition(stop_condition=['H', 'T'], print_opt=False):\n",
    "    flip_list = []\n",
    "    \n",
    "    current_index = 0\n",
    "    current_condition = None\n",
    "    while current_condition != stop_condition:\n",
    "        flip_list.append(flip_coin())\n",
    "        if len(flip_list) >= len(stop_condition):\n",
    "            current_condition = [flip_list[i] for i in range(current_index - len(stop_condition) +1 , current_index + 1)]\n",
    "        else:\n",
    "            pass\n",
    "        current_index +=1\n",
    "        \n",
    "    if print_opt:\n",
    "        print(flip_list)\n",
    "    return current_index "
   ]
  },
  {
   "cell_type": "code",
   "execution_count": 240,
   "metadata": {},
   "outputs": [
    {
     "name": "stdout",
     "output_type": "stream",
     "text": [
      "Average # of flips to achieve heads and then heads again: 6.0081\n",
      "Average # of flips to achieve heads and then tails: 3.9829\n"
     ]
    }
   ],
   "source": [
    "mean_ht = np.mean([flip_condition(['H', 'T']) for i in range(10000)])\n",
    "mean_hh = np.mean([flip_condition(['H','H']) for i in range(10000)])\n",
    "\n",
    "print(\"Average # of flips to achieve heads and then heads again: {}\".format(mean_hh))\n",
    "print(\"Average # of flips to achieve heads and then tails: {}\".format(mean_ht))"
   ]
  }
 ],
 "metadata": {
  "kernelspec": {
   "display_name": "Python 3",
   "language": "python",
   "name": "python3"
  },
  "language_info": {
   "codemirror_mode": {
    "name": "ipython",
    "version": 3
   },
   "file_extension": ".py",
   "mimetype": "text/x-python",
   "name": "python",
   "nbconvert_exporter": "python",
   "pygments_lexer": "ipython3",
   "version": "3.6.1"
  }
 },
 "nbformat": 4,
 "nbformat_minor": 2
}
