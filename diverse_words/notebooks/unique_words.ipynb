{
 "cells": [
  {
   "cell_type": "code",
   "execution_count": 1,
   "metadata": {},
   "outputs": [],
   "source": [
    "import re\n",
    "import os\n",
    "import csv\n",
    "\n",
    "from nltk.corpus import inaugural\n",
    "from nltk.corpus import stopwords\n",
    "from nltk.stem.wordnet import WordNetLemmatizer"
   ]
  },
  {
   "cell_type": "code",
   "execution_count": 2,
   "metadata": {},
   "outputs": [
    {
     "data": {
      "text/plain": [
       "['1789-Washington.txt',\n",
       " '1793-Washington.txt',\n",
       " '1797-Adams.txt',\n",
       " '1801-Jefferson.txt',\n",
       " '1805-Jefferson.txt',\n",
       " '1809-Madison.txt',\n",
       " '1813-Madison.txt',\n",
       " '1817-Monroe.txt',\n",
       " '1821-Monroe.txt',\n",
       " '1825-Adams.txt',\n",
       " '1829-Jackson.txt',\n",
       " '1833-Jackson.txt',\n",
       " '1837-VanBuren.txt',\n",
       " '1841-Harrison.txt',\n",
       " '1845-Polk.txt',\n",
       " '1849-Taylor.txt',\n",
       " '1853-Pierce.txt',\n",
       " '1857-Buchanan.txt',\n",
       " '1861-Lincoln.txt',\n",
       " '1865-Lincoln.txt',\n",
       " '1869-Grant.txt',\n",
       " '1873-Grant.txt',\n",
       " '1877-Hayes.txt',\n",
       " '1881-Garfield.txt',\n",
       " '1885-Cleveland.txt',\n",
       " '1889-Harrison.txt',\n",
       " '1893-Cleveland.txt',\n",
       " '1897-McKinley.txt',\n",
       " '1901-McKinley.txt',\n",
       " '1905-Roosevelt.txt',\n",
       " '1909-Taft.txt',\n",
       " '1913-Wilson.txt',\n",
       " '1917-Wilson.txt',\n",
       " '1921-Harding.txt',\n",
       " '1925-Coolidge.txt',\n",
       " '1929-Hoover.txt',\n",
       " '1933-Roosevelt.txt',\n",
       " '1937-Roosevelt.txt',\n",
       " '1941-Roosevelt.txt',\n",
       " '1945-Roosevelt.txt',\n",
       " '1949-Truman.txt',\n",
       " '1953-Eisenhower.txt',\n",
       " '1957-Eisenhower.txt',\n",
       " '1961-Kennedy.txt',\n",
       " '1965-Johnson.txt',\n",
       " '1969-Nixon.txt',\n",
       " '1973-Nixon.txt',\n",
       " '1977-Carter.txt',\n",
       " '1981-Reagan.txt',\n",
       " '1985-Reagan.txt',\n",
       " '1989-Bush.txt',\n",
       " '1993-Clinton.txt',\n",
       " '1997-Clinton.txt',\n",
       " '2001-Bush.txt',\n",
       " '2005-Bush.txt',\n",
       " '2009-Obama.txt']"
      ]
     },
     "execution_count": 2,
     "metadata": {},
     "output_type": "execute_result"
    }
   ],
   "source": [
    "inaugural.fileids()"
   ]
  },
  {
   "cell_type": "code",
   "execution_count": 3,
   "metadata": {},
   "outputs": [],
   "source": [
    "obama = inaugural.words('2009-Obama.txt')"
   ]
  },
  {
   "cell_type": "code",
   "execution_count": 6,
   "metadata": {},
   "outputs": [
    {
     "data": {
      "text/plain": [
       "['My', 'fellow', 'citizens', ':', 'I', 'stand', 'here', 'today', 'humbled']"
      ]
     },
     "execution_count": 6,
     "metadata": {},
     "output_type": "execute_result"
    }
   ],
   "source": [
    "obama[0:9]"
   ]
  },
  {
   "cell_type": "code",
   "execution_count": 59,
   "metadata": {},
   "outputs": [],
   "source": [
    "lemmatizer = WordNetLemmatizer()\n",
    "\n",
    "obama_cleaned = [word.lower() for word in obama if word not in stopwords.words('english') and word.isalpha()]\n",
    "obama_cleaned = [lemmatizer.lemmatize(word) for word in obama_cleaned]"
   ]
  },
  {
   "cell_type": "code",
   "execution_count": 69,
   "metadata": {},
   "outputs": [],
   "source": [
    "unique_words = []\n",
    "word_len = []\n",
    "counter = 0\n",
    "inds = []\n",
    "for word in obama_cleaned:\n",
    "    inds.append(counter)\n",
    "    if word not in unique_words:\n",
    "        unique_words.append(word)\n",
    "    word_len.append(len(unique_words))\n",
    "    counter += 1"
   ]
  },
  {
   "cell_type": "code",
   "execution_count": 130,
   "metadata": {},
   "outputs": [],
   "source": [
    "def collect_curve_data(file):\n",
    "    \n",
    "    # create lemmatizer and read in corpus\n",
    "    lemmatizer = WordNetLemmatizer()\n",
    "    corpus = inaugural.words(file)\n",
    "    \n",
    "    # remove stopwords and special character and lemmatize words\n",
    "    cleaned = [word.lower() for word in corpus if word not in stopwords.words('english') and word.isalpha()]\n",
    "    cleaned = [lemmatizer.lemmatize(word) for word in cleaned]\n",
    "    \n",
    "    \n",
    "    \n",
    "    # the meta data\n",
    "    metadata_regex = re.compile(r'(\\d\\d\\d\\d)-(\\w+)\\.txt')\n",
    "    meta_match = metadata_regex.search(file)\n",
    "    \n",
    "    # find the collector's curve\n",
    "    unique_words = []\n",
    "    word_len = []\n",
    "    counter = 0\n",
    "    inds = []\n",
    "    for word in cleaned:\n",
    "        inds.append(counter)\n",
    "        if word not in unique_words:\n",
    "            unique_words.append(word)\n",
    "        word_len.append(len(unique_words))\n",
    "        counter += 1\n",
    "    \n",
    "    # gather the meta data\n",
    "    year = [meta_match.group(1)] * len(word_len)\n",
    "    president = [meta_match.group(2)] * len(word_len)\n",
    "    vocab_size = [len(unique_words)] * len(word_len)\n",
    "    \n",
    "    # zip data together\n",
    "    rows = zip(*[inds, word_len, vocab_size, year, president])\n",
    "    \n",
    "    # write output\n",
    "    write_path = os.getcwd() + '/' + 'output'\n",
    "    output_file = '{}/{}{}.csv'.format(write_path, meta_match.group(1), meta_match.group(2))\n",
    "    \n",
    "    if not os.path.exists(write_path):\n",
    "        os.mkdir(write_path)\n",
    "        \n",
    "    \n",
    "    with open(output_file, \"w\") as f:\n",
    "        writer = csv.writer(f)\n",
    "        for row in rows:\n",
    "            writer.writerow(row)\n",
    "            \n",
    "    print('file written to: {}'.format(output_file))"
   ]
  },
  {
   "cell_type": "code",
   "execution_count": 131,
   "metadata": {},
   "outputs": [
    {
     "name": "stdout",
     "output_type": "stream",
     "text": [
      "file written to: /Users/jcbcnc/Documents/side_projects/diverse_words/notebooks/output/2009Obama.csv\n"
     ]
    }
   ],
   "source": [
    "collect_curve_data('2009-Obama.txt')"
   ]
  },
  {
   "cell_type": "code",
   "execution_count": 132,
   "metadata": {},
   "outputs": [
    {
     "name": "stdout",
     "output_type": "stream",
     "text": [
      "file written to: /Users/jcbcnc/Documents/side_projects/diverse_words/notebooks/output/1789Washington.csv\n",
      "file written to: /Users/jcbcnc/Documents/side_projects/diverse_words/notebooks/output/1793Washington.csv\n",
      "file written to: /Users/jcbcnc/Documents/side_projects/diverse_words/notebooks/output/1797Adams.csv\n",
      "file written to: /Users/jcbcnc/Documents/side_projects/diverse_words/notebooks/output/1801Jefferson.csv\n",
      "file written to: /Users/jcbcnc/Documents/side_projects/diverse_words/notebooks/output/1805Jefferson.csv\n",
      "file written to: /Users/jcbcnc/Documents/side_projects/diverse_words/notebooks/output/1809Madison.csv\n",
      "file written to: /Users/jcbcnc/Documents/side_projects/diverse_words/notebooks/output/1813Madison.csv\n",
      "file written to: /Users/jcbcnc/Documents/side_projects/diverse_words/notebooks/output/1817Monroe.csv\n",
      "file written to: /Users/jcbcnc/Documents/side_projects/diverse_words/notebooks/output/1821Monroe.csv\n",
      "file written to: /Users/jcbcnc/Documents/side_projects/diverse_words/notebooks/output/1825Adams.csv\n",
      "file written to: /Users/jcbcnc/Documents/side_projects/diverse_words/notebooks/output/1829Jackson.csv\n",
      "file written to: /Users/jcbcnc/Documents/side_projects/diverse_words/notebooks/output/1833Jackson.csv\n",
      "file written to: /Users/jcbcnc/Documents/side_projects/diverse_words/notebooks/output/1837VanBuren.csv\n",
      "file written to: /Users/jcbcnc/Documents/side_projects/diverse_words/notebooks/output/1841Harrison.csv\n",
      "file written to: /Users/jcbcnc/Documents/side_projects/diverse_words/notebooks/output/1845Polk.csv\n",
      "file written to: /Users/jcbcnc/Documents/side_projects/diverse_words/notebooks/output/1849Taylor.csv\n",
      "file written to: /Users/jcbcnc/Documents/side_projects/diverse_words/notebooks/output/1853Pierce.csv\n",
      "file written to: /Users/jcbcnc/Documents/side_projects/diverse_words/notebooks/output/1857Buchanan.csv\n",
      "file written to: /Users/jcbcnc/Documents/side_projects/diverse_words/notebooks/output/1861Lincoln.csv\n",
      "file written to: /Users/jcbcnc/Documents/side_projects/diverse_words/notebooks/output/1865Lincoln.csv\n",
      "file written to: /Users/jcbcnc/Documents/side_projects/diverse_words/notebooks/output/1869Grant.csv\n",
      "file written to: /Users/jcbcnc/Documents/side_projects/diverse_words/notebooks/output/1873Grant.csv\n",
      "file written to: /Users/jcbcnc/Documents/side_projects/diverse_words/notebooks/output/1877Hayes.csv\n",
      "file written to: /Users/jcbcnc/Documents/side_projects/diverse_words/notebooks/output/1881Garfield.csv\n",
      "file written to: /Users/jcbcnc/Documents/side_projects/diverse_words/notebooks/output/1885Cleveland.csv\n",
      "file written to: /Users/jcbcnc/Documents/side_projects/diverse_words/notebooks/output/1889Harrison.csv\n",
      "file written to: /Users/jcbcnc/Documents/side_projects/diverse_words/notebooks/output/1893Cleveland.csv\n",
      "file written to: /Users/jcbcnc/Documents/side_projects/diverse_words/notebooks/output/1897McKinley.csv\n",
      "file written to: /Users/jcbcnc/Documents/side_projects/diverse_words/notebooks/output/1901McKinley.csv\n",
      "file written to: /Users/jcbcnc/Documents/side_projects/diverse_words/notebooks/output/1905Roosevelt.csv\n",
      "file written to: /Users/jcbcnc/Documents/side_projects/diverse_words/notebooks/output/1909Taft.csv\n",
      "file written to: /Users/jcbcnc/Documents/side_projects/diverse_words/notebooks/output/1913Wilson.csv\n",
      "file written to: /Users/jcbcnc/Documents/side_projects/diverse_words/notebooks/output/1917Wilson.csv\n",
      "file written to: /Users/jcbcnc/Documents/side_projects/diverse_words/notebooks/output/1921Harding.csv\n",
      "file written to: /Users/jcbcnc/Documents/side_projects/diverse_words/notebooks/output/1925Coolidge.csv\n",
      "file written to: /Users/jcbcnc/Documents/side_projects/diverse_words/notebooks/output/1929Hoover.csv\n",
      "file written to: /Users/jcbcnc/Documents/side_projects/diverse_words/notebooks/output/1933Roosevelt.csv\n",
      "file written to: /Users/jcbcnc/Documents/side_projects/diverse_words/notebooks/output/1937Roosevelt.csv\n",
      "file written to: /Users/jcbcnc/Documents/side_projects/diverse_words/notebooks/output/1941Roosevelt.csv\n",
      "file written to: /Users/jcbcnc/Documents/side_projects/diverse_words/notebooks/output/1945Roosevelt.csv\n",
      "file written to: /Users/jcbcnc/Documents/side_projects/diverse_words/notebooks/output/1949Truman.csv\n",
      "file written to: /Users/jcbcnc/Documents/side_projects/diverse_words/notebooks/output/1953Eisenhower.csv\n",
      "file written to: /Users/jcbcnc/Documents/side_projects/diverse_words/notebooks/output/1957Eisenhower.csv\n",
      "file written to: /Users/jcbcnc/Documents/side_projects/diverse_words/notebooks/output/1961Kennedy.csv\n",
      "file written to: /Users/jcbcnc/Documents/side_projects/diverse_words/notebooks/output/1965Johnson.csv\n",
      "file written to: /Users/jcbcnc/Documents/side_projects/diverse_words/notebooks/output/1969Nixon.csv\n",
      "file written to: /Users/jcbcnc/Documents/side_projects/diverse_words/notebooks/output/1973Nixon.csv\n",
      "file written to: /Users/jcbcnc/Documents/side_projects/diverse_words/notebooks/output/1977Carter.csv\n",
      "file written to: /Users/jcbcnc/Documents/side_projects/diverse_words/notebooks/output/1981Reagan.csv\n",
      "file written to: /Users/jcbcnc/Documents/side_projects/diverse_words/notebooks/output/1985Reagan.csv\n",
      "file written to: /Users/jcbcnc/Documents/side_projects/diverse_words/notebooks/output/1989Bush.csv\n",
      "file written to: /Users/jcbcnc/Documents/side_projects/diverse_words/notebooks/output/1993Clinton.csv\n",
      "file written to: /Users/jcbcnc/Documents/side_projects/diverse_words/notebooks/output/1997Clinton.csv\n",
      "file written to: /Users/jcbcnc/Documents/side_projects/diverse_words/notebooks/output/2001Bush.csv\n",
      "file written to: /Users/jcbcnc/Documents/side_projects/diverse_words/notebooks/output/2005Bush.csv\n",
      "file written to: /Users/jcbcnc/Documents/side_projects/diverse_words/notebooks/output/2009Obama.csv\n"
     ]
    }
   ],
   "source": [
    "for file in inaugural.fileids():\n",
    "    collect_curve_data(file)"
   ]
  }
 ],
 "metadata": {
  "kernelspec": {
   "display_name": "Python 3",
   "language": "python",
   "name": "python3"
  },
  "language_info": {
   "codemirror_mode": {
    "name": "ipython",
    "version": 3
   },
   "file_extension": ".py",
   "mimetype": "text/x-python",
   "name": "python",
   "nbconvert_exporter": "python",
   "pygments_lexer": "ipython3",
   "version": "3.6.1"
  }
 },
 "nbformat": 4,
 "nbformat_minor": 2
}
